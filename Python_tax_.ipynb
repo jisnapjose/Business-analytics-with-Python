{
  "nbformat": 4,
  "nbformat_minor": 0,
  "metadata": {
    "colab": {
      "name": "Python tax .ipynb",
      "provenance": []
    },
    "kernelspec": {
      "name": "python3",
      "display_name": "Python 3"
    },
    "language_info": {
      "name": "python"
    }
  },
  "cells": [
    {
      "cell_type": "code",
      "execution_count": 1,
      "metadata": {
        "colab": {
          "base_uri": "https://localhost:8080/"
        },
        "id": "ru8Rc8hVNMwM",
        "outputId": "21885fd8-8b01-457c-c9e5-6a01715a408c"
      },
      "outputs": [
        {
          "name": "stdout",
          "output_type": "stream",
          "text": [
            "enter a number20\n",
            "enter a number6\n"
          ]
        }
      ],
      "source": [
        "x=input(\"enter a number\")\n",
        "y=input(\"enter a number\")"
      ]
    },
    {
      "cell_type": "code",
      "source": [
        "int(x)-int(y)"
      ],
      "metadata": {
        "colab": {
          "base_uri": "https://localhost:8080/"
        },
        "id": "54-rdm7zQBGg",
        "outputId": "f2293c64-4c81-4f11-9ca9-f2540d03bdd5"
      },
      "execution_count": 2,
      "outputs": [
        {
          "output_type": "execute_result",
          "data": {
            "text/plain": [
              "14"
            ]
          },
          "metadata": {},
          "execution_count": 2
        }
      ]
    },
    {
      "cell_type": "code",
      "source": [
        "int(x)+int(y)"
      ],
      "metadata": {
        "colab": {
          "base_uri": "https://localhost:8080/"
        },
        "id": "t6MU9LSYQkLu",
        "outputId": "28d89cc5-2788-4086-a9ab-ecc65b448864"
      },
      "execution_count": 3,
      "outputs": [
        {
          "output_type": "execute_result",
          "data": {
            "text/plain": [
              "26"
            ]
          },
          "metadata": {},
          "execution_count": 3
        }
      ]
    },
    {
      "cell_type": "code",
      "source": [
        "int(x)*int(y)"
      ],
      "metadata": {
        "colab": {
          "base_uri": "https://localhost:8080/"
        },
        "id": "bpbewZb8QpFW",
        "outputId": "ed98a246-8b78-4d97-ec51-8531de90fd41"
      },
      "execution_count": 4,
      "outputs": [
        {
          "output_type": "execute_result",
          "data": {
            "text/plain": [
              "120"
            ]
          },
          "metadata": {},
          "execution_count": 4
        }
      ]
    },
    {
      "cell_type": "code",
      "source": [
        "int(x)/int(y)"
      ],
      "metadata": {
        "colab": {
          "base_uri": "https://localhost:8080/"
        },
        "id": "E_J0mL3PQwp8",
        "outputId": "d12a8fe3-1569-438d-aeb2-d7c4bbef263f"
      },
      "execution_count": 5,
      "outputs": [
        {
          "output_type": "execute_result",
          "data": {
            "text/plain": [
              "3.3333333333333335"
            ]
          },
          "metadata": {},
          "execution_count": 5
        }
      ]
    },
    {
      "cell_type": "code",
      "source": [
        "x=int(input(\"enter the first number\"))\n",
        "y=int(input(\"enter the second number\"))\n",
        "print(x+y,x-y,x*y,x/y)"
      ],
      "metadata": {
        "colab": {
          "base_uri": "https://localhost:8080/"
        },
        "id": "xEYVGj0FQ1wG",
        "outputId": "b1bdd7f5-f729-4648-a88e-964205ce11d4"
      },
      "execution_count": 9,
      "outputs": [
        {
          "output_type": "stream",
          "name": "stdout",
          "text": [
            "enter the first number90\n",
            "enter the second number64\n",
            "154 26 5760 1.40625\n"
          ]
        }
      ]
    },
    {
      "cell_type": "code",
      "source": [
        "p=int(input(\"enter the principle amount\"))\n",
        "r=int(input(\"enter the rate\"))\n",
        "n=int(input(\"enter the no of year\"))\n",
        "i=p*r*n\n",
        "print(\"the intrest\",i)"
      ],
      "metadata": {
        "colab": {
          "base_uri": "https://localhost:8080/"
        },
        "id": "xWXtYir7UZcW",
        "outputId": "22093339-cf9d-407d-802e-6b07b5bc2120"
      },
      "execution_count": 17,
      "outputs": [
        {
          "output_type": "stream",
          "name": "stdout",
          "text": [
            "enter the principle amount100000\n",
            "enter the rate5\n",
            "enter the no of year2\n",
            "the intrest 1000000\n"
          ]
        }
      ]
    },
    {
      "cell_type": "code",
      "source": [
        "a=i+p\n",
        "print(\"the amount is\",a)"
      ],
      "metadata": {
        "colab": {
          "base_uri": "https://localhost:8080/"
        },
        "id": "4fRkqxmAV_mO",
        "outputId": "d1a08fe8-373a-4359-efa8-8c08a7119390"
      },
      "execution_count": 20,
      "outputs": [
        {
          "output_type": "stream",
          "name": "stdout",
          "text": [
            "the amount is 1100000\n"
          ]
        }
      ]
    },
    {
      "cell_type": "code",
      "source": [
        "x=int(input(\"enter your mark\"))"
      ],
      "metadata": {
        "colab": {
          "base_uri": "https://localhost:8080/"
        },
        "id": "GMnNmRz3Wnec",
        "outputId": "26abb8ae-56bb-4034-fead-93d3b7ceac12"
      },
      "execution_count": 7,
      "outputs": [
        {
          "name": "stdout",
          "output_type": "stream",
          "text": [
            "enter your mark68\n"
          ]
        }
      ]
    },
    {
      "cell_type": "code",
      "source": [
        "if x >50:\n",
        "  print(\"you are passed\")"
      ],
      "metadata": {
        "colab": {
          "base_uri": "https://localhost:8080/"
        },
        "id": "1os_WP8OXxzw",
        "outputId": "aeefa3dc-462f-45e9-867e-a30e519140c6"
      },
      "execution_count": 8,
      "outputs": [
        {
          "output_type": "stream",
          "name": "stdout",
          "text": [
            "you are passed\n"
          ]
        }
      ]
    },
    {
      "cell_type": "code",
      "source": [
        "if x <50:\n",
        "  print(\"you are failed\")"
      ],
      "metadata": {
        "id": "gUnSMDFKYSuo"
      },
      "execution_count": 9,
      "outputs": []
    },
    {
      "cell_type": "code",
      "source": [
        "x=int(input(\"enter your salary\"))\n",
        "tax=x*10/100\n",
        "if x>2000000:\n",
        "  print(\"you are taxable\")\n",
        "  print(\"your tax amount is \",x)\n",
        "if x<2000000:\n",
        "  print(\"you are not taxable\")\n",
        "\n",
        "\n"
      ],
      "metadata": {
        "colab": {
          "base_uri": "https://localhost:8080/"
        },
        "id": "BZZPWCK7Ycgg",
        "outputId": "dc258611-405a-4857-a2e0-0280ca8afbf3"
      },
      "execution_count": 14,
      "outputs": [
        {
          "output_type": "stream",
          "name": "stdout",
          "text": [
            "enter your salary2050000\n",
            "you are taxable\n",
            "your tax amount is  2050000\n"
          ]
        }
      ]
    },
    {
      "cell_type": "code",
      "source": [
        "x=int(input(\"enter your salary\"))\n",
        "t=x-250000\n",
        "tax=t*10/100"
      ],
      "metadata": {
        "colab": {
          "base_uri": "https://localhost:8080/"
        },
        "id": "zyzeJf26a_PC",
        "outputId": "f750c3bc-673a-4258-be57-eadcc0f935e1"
      },
      "execution_count": 15,
      "outputs": [
        {
          "name": "stdout",
          "output_type": "stream",
          "text": [
            "enter your salary300000\n"
          ]
        }
      ]
    },
    {
      "cell_type": "code",
      "source": [
        "if x>250000:\n",
        "  print(\"you are taxable\")\n",
        "  print(\"your tax amount is \",tax)\n",
        "if x<250000:\n",
        "  print(\"you are not taxable\")\n"
      ],
      "metadata": {
        "colab": {
          "base_uri": "https://localhost:8080/"
        },
        "id": "4U7OlYKlf_i6",
        "outputId": "12e1c507-6c56-4c55-c2e2-9ebf2d58663c"
      },
      "execution_count": 16,
      "outputs": [
        {
          "output_type": "stream",
          "name": "stdout",
          "text": [
            "you are taxable\n",
            "your tax amount is  5000.0\n"
          ]
        }
      ]
    },
    {
      "cell_type": "code",
      "source": [
        "x=int(input(\"enter your salary\"))\n",
        "tax=t*10/100\n"
      ],
      "metadata": {
        "colab": {
          "base_uri": "https://localhost:8080/"
        },
        "id": "-aqRUGgMgVyA",
        "outputId": "c7d88798-d4e5-46aa-b544-0ff6196d6c2c"
      },
      "execution_count": 17,
      "outputs": [
        {
          "name": "stdout",
          "output_type": "stream",
          "text": [
            "enter your salary500000\n"
          ]
        }
      ]
    },
    {
      "cell_type": "code",
      "source": [
        "if x<2500000:\n",
        "  print(\"you are not taxable\")\n",
        "if 2500000<x<5000000:\n",
        "  print(\"you are taxable\")\n",
        "if x>5000000:\n",
        "  print(\"you are taxable\")"
      ],
      "metadata": {
        "colab": {
          "base_uri": "https://localhost:8080/"
        },
        "id": "pGNeLlICirtB",
        "outputId": "fcc92361-b288-4e64-de17-8a6c3d12b767"
      },
      "execution_count": 19,
      "outputs": [
        {
          "output_type": "stream",
          "name": "stdout",
          "text": [
            "you are not taxable\n"
          ]
        }
      ]
    }
  ]
}