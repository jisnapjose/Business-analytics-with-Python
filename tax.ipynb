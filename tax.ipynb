{
  "nbformat": 4,
  "nbformat_minor": 0,
  "metadata": {
    "colab": {
      "name": "tax.ipynb",
      "provenance": []
    },
    "kernelspec": {
      "name": "python3",
      "display_name": "Python 3"
    },
    "language_info": {
      "name": "python"
    }
  },
  "cells": [
    {
      "cell_type": "code",
      "source": [
        "x=int(input(\"enter basic salary\"))\n",
        "y=int(input(\"enter HRA\"))\n",
        "Z=int(input(\"enter special allowance\"))\n",
        "w=int(input(\"enter \"))\n",
        "if x<250000:\n",
        "  print(\"no tax\")\n",
        "if x<500000 & x>250000:\n",
        "  a=(250000-x)*5/100\n",
        "  print(\"tax\"a)\n",
        "if x<7500000 & x>500000:\n",
        "  b=(500000-x)*5/100 +(750000-x)*7/100\n",
        "  print(\"tax\"b)\n",
        "else(x<1000000)\n",
        "  c=(500000-x)*5/100+(750000-x)*7/100 +(1000000-x)*10/100\n",
        "  print(\"tax\"c)\n"
      ],
      "metadata": {
        "colab": {
          "base_uri": "https://localhost:8080/",
          "height": 130
        },
        "id": "drOaWdUghYLy",
        "outputId": "698527ad-1662-42de-f6c2-d6473d6cf9e0"
      },
      "execution_count": 5,
      "outputs": [
        {
          "output_type": "error",
          "ename": "SyntaxError",
          "evalue": "ignored",
          "traceback": [
            "\u001b[0;36m  File \u001b[0;32m\"<ipython-input-5-1508ee07edd3>\"\u001b[0;36m, line \u001b[0;32m9\u001b[0m\n\u001b[0;31m    print(\"tax\"a)\u001b[0m\n\u001b[0m               ^\u001b[0m\n\u001b[0;31mSyntaxError\u001b[0m\u001b[0;31m:\u001b[0m invalid syntax\n"
          ]
        }
      ]
    },
    {
      "cell_type": "code",
      "source": [
        ""
      ],
      "metadata": {
        "id": "2gWg3omXkgzH"
      },
      "execution_count": null,
      "outputs": []
    }
  ]
}