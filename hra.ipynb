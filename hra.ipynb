{
  "nbformat": 4,
  "nbformat_minor": 0,
  "metadata": {
    "colab": {
      "provenance": []
    },
    "kernelspec": {
      "name": "python3",
      "display_name": "Python 3"
    },
    "language_info": {
      "name": "python"
    }
  },
  "cells": [
    {
      "cell_type": "code",
      "execution_count": 11,
      "metadata": {
        "id": "iLixE--ZSEni",
        "colab": {
          "base_uri": "https://localhost:8080/"
        },
        "outputId": "d6cd09d5-be62-4f5a-e812-389fc9869c90"
      },
      "outputs": [
        {
          "output_type": "stream",
          "name": "stdout",
          "text": [
            "enter the actual hra received from employer10000\n",
            "enter your actual rent paid23000\n",
            "enter your basic salary13000\n",
            "eligible for hra exemption of Rs 6500.0\n"
          ]
        }
      ],
      "source": [
        "\n",
        "a=int(input(\"enter the actual hra received from employer\"))\n",
        "b=int(input(\"enter your actual rent paid\"))\n",
        "c=int(input(\"enter your basic salary\"))\n",
        "a1=a\n",
        "a2=b-10/100* a\n",
        "a3 = 50/100*c \n",
        "if a1 < a2 and a1 < a3 :\n",
        "    smallest = a1\n",
        "if a2 < a3:\n",
        "    smallest =a2\n",
        "else:\n",
        "    smallest = a3\n",
        "print(\"eligible for hra exemption of Rs\",smallest)\n",
        "\n",
        "\n",
        "\n",
        "\n",
        "\n"
      ]
    },
    {
      "cell_type": "code",
      "source": [],
      "metadata": {
        "id": "Rjn8aB8Hhokb"
      },
      "execution_count": 8,
      "outputs": []
    }
  ]
}