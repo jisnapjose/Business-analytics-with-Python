{
  "nbformat": 4,
  "nbformat_minor": 0,
  "metadata": {
    "colab": {
      "provenance": []
    },
    "kernelspec": {
      "name": "python3",
      "display_name": "Python 3"
    },
    "language_info": {
      "name": "python"
    }
  },
  "cells": [
    {
      "cell_type": "code",
      "execution_count": null,
      "metadata": {
        "id": "pIO3q-jYO74a"
      },
      "outputs": [],
      "source": [
        "def JISNA():\n",
        "  print(\"india is my country\")"
      ]
    },
    {
      "cell_type": "code",
      "source": [
        "JISNA()"
      ],
      "metadata": {
        "colab": {
          "base_uri": "https://localhost:8080/"
        },
        "id": "a079hf6AQDNG",
        "outputId": "f28ef44a-4ef9-47a9-d789-9362873eb359"
      },
      "execution_count": null,
      "outputs": [
        {
          "output_type": "stream",
          "name": "stdout",
          "text": [
            "india is my country\n"
          ]
        }
      ]
    },
    {
      "cell_type": "code",
      "source": [
        "def JISNA(x):\n",
        "  print(\"my roll number is\",x)"
      ],
      "metadata": {
        "id": "lTUS9tjFQGPP"
      },
      "execution_count": null,
      "outputs": []
    },
    {
      "cell_type": "code",
      "source": [
        "x=int(input(\"enter your roll number\"))\n",
        "JISNA(x)"
      ],
      "metadata": {
        "colab": {
          "base_uri": "https://localhost:8080/"
        },
        "id": "xBsCGCo2RNYu",
        "outputId": "66b60be5-daab-4c7f-8cde-24fcef0e3030"
      },
      "execution_count": null,
      "outputs": [
        {
          "output_type": "stream",
          "name": "stdout",
          "text": [
            "enter your roll number10\n",
            "my roll number is 10\n"
          ]
        }
      ]
    },
    {
      "cell_type": "code",
      "source": [
        "def jisna(a,b,c,d):\n",
        "  print(\"my name is \",a)\n",
        "  print(\"my roll no is \",b)\n",
        "  print(\"my mail id is\",c)\n",
        "  print(\"i am from\",d)\n"
      ],
      "metadata": {
        "id": "PYWoIFXdSDjG"
      },
      "execution_count": null,
      "outputs": []
    },
    {
      "cell_type": "code",
      "source": [
        "\n",
        "a=input(\"enter your name \")\n",
        "b=int(input(\"enter your roll number  \"))\n",
        "c=input(\"enter your mail id \")\n",
        "d=input(\"enter your place \")\n",
        "jisna(a,b,c,d)"
      ],
      "metadata": {
        "colab": {
          "base_uri": "https://localhost:8080/"
        },
        "id": "oU8onCdrT0-H",
        "outputId": "4283e1f8-084f-47a5-c551-dd75b58b8ff0"
      },
      "execution_count": 14,
      "outputs": [
        {
          "output_type": "stream",
          "name": "stdout",
          "text": [
            "enter your name 5\n",
            "enter your roll number  5\n",
            "enter your mail id 5\n",
            "enter your place 5\n",
            "my name is  5\n",
            "my roll no is  5\n",
            "my mail id is 5\n",
            "i am from 5\n"
          ]
        }
      ]
    },
    {
      "cell_type": "code",
      "source": [
        "x=input(\"enter your full name \")\n",
        "def firstname(x):\n",
        "  print(x[0:5])\n",
        "def secondname(x):\n",
        "  print(x[5:9])"
      ],
      "metadata": {
        "id": "55t89cMsUXH-",
        "colab": {
          "base_uri": "https://localhost:8080/"
        },
        "outputId": "7bceaa74-5fe4-4178-94e3-9f1a01b0a7b3"
      },
      "execution_count": 24,
      "outputs": [
        {
          "name": "stdout",
          "output_type": "stream",
          "text": [
            "enter your full name jisnajose\n"
          ]
        }
      ]
    },
    {
      "cell_type": "code",
      "source": [
        "firstname(x)"
      ],
      "metadata": {
        "id": "3DMCQmzzWyWr",
        "colab": {
          "base_uri": "https://localhost:8080/"
        },
        "outputId": "8c15bed0-0501-4f4b-de09-5efe8c90a523"
      },
      "execution_count": 25,
      "outputs": [
        {
          "output_type": "stream",
          "name": "stdout",
          "text": [
            "jisna\n"
          ]
        }
      ]
    },
    {
      "cell_type": "code",
      "source": [
        "secondname(x)"
      ],
      "metadata": {
        "id": "eJC9mSfyatoJ",
        "outputId": "098c8ea9-27f5-4ce3-de30-c5ec36dc2fbe",
        "colab": {
          "base_uri": "https://localhost:8080/"
        }
      },
      "execution_count": 26,
      "outputs": [
        {
          "output_type": "stream",
          "name": "stdout",
          "text": [
            "jose\n"
          ]
        }
      ]
    },
    {
      "cell_type": "code",
      "source": [
        "\n",
        "x=input(\"enter your full name\")\n",
        "def name(x):\n",
        "  y=x.split()\n",
        "  print(\"your first name is\",y[0])\n",
        "  print(\"your second name is\",y[1])\n",
        "name(x)\n"
      ],
      "metadata": {
        "id": "2P7cmWUra5N8",
        "outputId": "702708da-631c-46ef-83ee-e75cb977ca12",
        "colab": {
          "base_uri": "https://localhost:8080/"
        }
      },
      "execution_count": 44,
      "outputs": [
        {
          "output_type": "stream",
          "name": "stdout",
          "text": [
            "enter your full namejisna jose\n",
            "your first name is jisna\n",
            "your second name is jose\n"
          ]
        }
      ]
    },
    {
      "cell_type": "code",
      "source": [],
      "metadata": {
        "id": "16yYa7QxchbS"
      },
      "execution_count": 44,
      "outputs": []
    },
    {
      "cell_type": "code",
      "source": [],
      "metadata": {
        "id": "_4kLj73gdrUG"
      },
      "execution_count": null,
      "outputs": []
    }
  ]
}