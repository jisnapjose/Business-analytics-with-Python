{
  "nbformat": 4,
  "nbformat_minor": 0,
  "metadata": {
    "colab": {
      "provenance": []
    },
    "kernelspec": {
      "name": "python3",
      "display_name": "Python 3"
    },
    "language_info": {
      "name": "python"
    }
  },
  "cells": [
    {
      "cell_type": "code",
      "execution_count": 4,
      "metadata": {
        "colab": {
          "base_uri": "https://localhost:8080/"
        },
        "id": "61pAxSM9xT6e",
        "outputId": "5a1c5686-c765-4126-b8dd-f400b18edf31"
      },
      "outputs": [
        {
          "output_type": "stream",
          "name": "stdout",
          "text": [
            "this is \"python\"programming\n"
          ]
        }
      ],
      "source": [
        "x=\"this is \\\"python\\\"programming\"\n",
        "print(x)"
      ]
    },
    {
      "cell_type": "code",
      "source": [
        "x='he\\'s a doctor'\n",
        "print(x)"
      ],
      "metadata": {
        "colab": {
          "base_uri": "https://localhost:8080/"
        },
        "id": "6Lmmwa9axi2L",
        "outputId": "3f734810-d8fa-4f6d-bcba-844b9e55fe0e"
      },
      "execution_count": 5,
      "outputs": [
        {
          "output_type": "stream",
          "name": "stdout",
          "text": [
            "he's a doctor\n"
          ]
        }
      ]
    },
    {
      "cell_type": "code",
      "source": [
        "x=\"hello\\nworld!\"\n",
        "print(x)"
      ],
      "metadata": {
        "colab": {
          "base_uri": "https://localhost:8080/"
        },
        "id": "EQ1cYSkFx3_7",
        "outputId": "d2e93718-1126-4aeb-b18c-7883ec5e00cd"
      },
      "execution_count": 9,
      "outputs": [
        {
          "output_type": "stream",
          "name": "stdout",
          "text": [
            "hello\n",
            "world!\n"
          ]
        }
      ]
    },
    {
      "cell_type": "code",
      "source": [
        "x=\"hello\\tworld!\"\n",
        "print(x)"
      ],
      "metadata": {
        "colab": {
          "base_uri": "https://localhost:8080/"
        },
        "id": "R9X8cYh_yDLj",
        "outputId": "f9280995-868d-466f-8772-fe47c3a6f47f"
      },
      "execution_count": 8,
      "outputs": [
        {
          "output_type": "stream",
          "name": "stdout",
          "text": [
            "hello\tworld!\n"
          ]
        }
      ]
    },
    {
      "cell_type": "code",
      "source": [
        "print(\"\\\"jisna\\\" p jose\")"
      ],
      "metadata": {
        "colab": {
          "base_uri": "https://localhost:8080/"
        },
        "id": "9pM6tDyxyKCT",
        "outputId": "91d6f67f-1552-4896-e2a2-5e02418147c6"
      },
      "execution_count": 10,
      "outputs": [
        {
          "output_type": "stream",
          "name": "stdout",
          "text": [
            "\"jisna\" p jose\n"
          ]
        }
      ]
    },
    {
      "cell_type": "code",
      "source": [
        "x='he\\'s a doctor'\n",
        "print(x)"
      ],
      "metadata": {
        "colab": {
          "base_uri": "https://localhost:8080/"
        },
        "id": "AD9U0TcZzqpB",
        "outputId": "ad71b815-c18d-4fa4-b9bb-12dbefeae7d9"
      },
      "execution_count": 11,
      "outputs": [
        {
          "output_type": "stream",
          "name": "stdout",
          "text": [
            "he's a doctor\n"
          ]
        }
      ]
    },
    {
      "cell_type": "code",
      "source": [
        "print(\"he\\n doctor\")"
      ],
      "metadata": {
        "colab": {
          "base_uri": "https://localhost:8080/"
        },
        "id": "AS8kuvTZ0tRn",
        "outputId": "a7b21379-32e4-4d17-c420-65ec16ae6734"
      },
      "execution_count": 12,
      "outputs": [
        {
          "output_type": "stream",
          "name": "stdout",
          "text": [
            "he\n",
            " doctor\n"
          ]
        }
      ]
    },
    {
      "cell_type": "code",
      "source": [
        "print(\"jisna\\n jose\")"
      ],
      "metadata": {
        "colab": {
          "base_uri": "https://localhost:8080/"
        },
        "id": "lRzT6ogs1DNM",
        "outputId": "04e9885d-4048-4737-f185-1b84b7aa9162"
      },
      "execution_count": 13,
      "outputs": [
        {
          "output_type": "stream",
          "name": "stdout",
          "text": [
            "jisna\n",
            " jose\n"
          ]
        }
      ]
    },
    {
      "cell_type": "code",
      "source": [
        "\n",
        "x=\"10\"\n",
        "print(x.isalpha())"
      ],
      "metadata": {
        "colab": {
          "base_uri": "https://localhost:8080/"
        },
        "id": "BAXNkFwc1NmU",
        "outputId": "62774ace-7992-4d74-bba2-c781f9f82ae8"
      },
      "execution_count": 21,
      "outputs": [
        {
          "output_type": "stream",
          "name": "stdout",
          "text": [
            "False\n"
          ]
        }
      ]
    },
    {
      "cell_type": "code",
      "source": [
        "x=[\"john\",\"mary\",\"david\",\"adam\"]\n",
        "y=input(\"enter a name\" )\n",
        "z=int(input(\"enter a position\" ))\n",
        "x.insert(z,y)\n",
        "print(x)"
      ],
      "metadata": {
        "colab": {
          "base_uri": "https://localhost:8080/"
        },
        "id": "Kb26hB-A3VzN",
        "outputId": "4a15203a-cc60-4e25-d323-45f02395f096"
      },
      "execution_count": 32,
      "outputs": [
        {
          "output_type": "stream",
          "name": "stdout",
          "text": [
            "enter a namejames\n",
            "enter a position1\n",
            "['john', 'james', 'mary', 'david', 'adam']\n"
          ]
        }
      ]
    },
    {
      "cell_type": "code",
      "source": [
        "def jisna ():\n",
        "  x=[\"john\",\"mary\",\"david\",\"adam\"]\n",
        "  y=input(\"enter a name \" )\n",
        "  z=int(input(\"enter index\" ))\n",
        "  x.insert(z,y)\n",
        "  print(x)\n"
      ],
      "metadata": {
        "id": "2AQ-mpoW3WcV"
      },
      "execution_count": 41,
      "outputs": []
    },
    {
      "cell_type": "code",
      "source": [
        "jisna()"
      ],
      "metadata": {
        "colab": {
          "base_uri": "https://localhost:8080/"
        },
        "id": "TP8QtIBj6foB",
        "outputId": "3d780ada-c654-447e-ebe3-6a4f99fdb812"
      },
      "execution_count": 42,
      "outputs": [
        {
          "output_type": "stream",
          "name": "stdout",
          "text": [
            "enter a name jose\n",
            "enter index3\n",
            "['john', 'mary', 'david', 'jose', 'adam']\n"
          ]
        }
      ]
    },
    {
      "cell_type": "code",
      "source": [
        "def maths(): \n",
        "  x=int(input(\"enter a number \"))\n",
        "  y=int(input(\"enter second number \"))\n",
        "  print(x+y)\n",
        "  print(x-y)\n",
        "  print(x/y)\n",
        "  print(x*y)"
      ],
      "metadata": {
        "id": "7X_MP5EW6gcA"
      },
      "execution_count": 45,
      "outputs": []
    },
    {
      "cell_type": "code",
      "source": [
        "maths()"
      ],
      "metadata": {
        "colab": {
          "base_uri": "https://localhost:8080/"
        },
        "id": "vXZfpnZI-bTZ",
        "outputId": "6ef64a62-1439-43c1-8562-be687e607b5f"
      },
      "execution_count": 46,
      "outputs": [
        {
          "output_type": "stream",
          "name": "stdout",
          "text": [
            "enter a number 23\n",
            "enter second number 45\n",
            "68\n",
            "-22\n",
            "0.5111111111111111\n",
            "1035\n"
          ]
        }
      ]
    },
    {
      "cell_type": "code",
      "source": [],
      "metadata": {
        "id": "TDVbT5QNAz1Q"
      },
      "execution_count": null,
      "outputs": []
    }
  ]
}