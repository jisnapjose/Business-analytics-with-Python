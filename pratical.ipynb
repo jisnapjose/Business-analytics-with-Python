{
  "cells": [
    {
      "cell_type": "code",
      "execution_count": null,
      "metadata": {
        "id": "Kx1lL9ynHW0o"
      },
      "outputs": [],
      "source": [
        "x=2\n",
        "y=5\n",
        "print(x is y)\n",
        "print(x is not y)"
      ]
    },
    {
      "cell_type": "code",
      "execution_count": null,
      "metadata": {
        "id": "VG50Yi9hImkG"
      },
      "outputs": [],
      "source": [
        "x=2\n",
        "y=5\n",
        "print(x<2 and x<10)\n",
        "print(not(x<2 and x<10))"
      ]
    },
    {
      "cell_type": "code",
      "execution_count": null,
      "metadata": {
        "id": "GHGRk-EXJCpq"
      },
      "outputs": [],
      "source": [
        "\n",
        "x=2\n",
        "y=5\n",
        "print((x+5)-y<(10+x)-y)"
      ]
    },
    {
      "cell_type": "code",
      "execution_count": null,
      "metadata": {
        "id": "3sZsqGq9MDfg"
      },
      "outputs": [],
      "source": [
        "x=2\n",
        "y=5\n",
        "z=3\n",
        "print((x<y)<z)"
      ]
    },
    {
      "cell_type": "code",
      "execution_count": null,
      "metadata": {
        "id": "mrrwsBO7Mmo1"
      },
      "outputs": [],
      "source": [
        "x=10*(4+6)*10/100\n",
        "print(x)"
      ]
    },
    {
      "cell_type": "code",
      "execution_count": null,
      "metadata": {
        "id": "dpyqqsmoNO-j"
      },
      "outputs": [],
      "source": [
        "x=10\n",
        "y=4\n",
        "print(x+int(y))"
      ]
    },
    {
      "cell_type": "code",
      "execution_count": null,
      "metadata": {
        "id": "-P8gyA2SNe3m"
      },
      "outputs": [],
      "source": [
        "import math \n",
        "x=math.pi\n",
        "print(x)"
      ]
    },
    {
      "cell_type": "code",
      "execution_count": null,
      "metadata": {
        "id": "pr_znWWyOI-U"
      },
      "outputs": [],
      "source": [
        "import math as mt\n",
        "r=int(input(\"enter the radius:\"))\n",
        "x=mt.pi*r**2\n",
        "print(x)"
      ]
    },
    {
      "cell_type": "code",
      "execution_count": null,
      "metadata": {
        "id": "Gi8mC7oNOdIw"
      },
      "outputs": [],
      "source": [
        "import math as mt\n",
        "x=mt.e\n",
        "print(x)"
      ]
    },
    {
      "cell_type": "code",
      "execution_count": null,
      "metadata": {
        "id": "nSurKh7JOzTD"
      },
      "outputs": [],
      "source": [
        "import math as irene \n",
        "x=mt.e\n",
        "print(x)"
      ]
    },
    {
      "cell_type": "code",
      "execution_count": null,
      "metadata": {
        "id": "Bblopnm6P7oG"
      },
      "outputs": [],
      "source": [
        "import math as mt\n",
        "x=mt.sin(30)\n",
        "print(x)"
      ]
    },
    {
      "cell_type": "code",
      "execution_count": null,
      "metadata": {
        "id": "W_tnjK6gQUHe"
      },
      "outputs": [],
      "source": [
        "import math as mt\n",
        "x=mt.cos(30)\n",
        "print(x)"
      ]
    },
    {
      "cell_type": "code",
      "execution_count": null,
      "metadata": {
        "id": "deIXDmKAQvfI"
      },
      "outputs": [],
      "source": [
        "import math as mt\n",
        "x=mt.tan(30)\n",
        "print(x)"
      ]
    },
    {
      "cell_type": "code",
      "execution_count": null,
      "metadata": {
        "id": "7DENi7BzQygJ"
      },
      "outputs": [],
      "source": [
        "import math as mt\n",
        "x=mt.pow(2,4)\n",
        "print(x)"
      ]
    },
    {
      "cell_type": "code",
      "execution_count": null,
      "metadata": {
        "id": "Y1WiGReWRGWl"
      },
      "outputs": [],
      "source": [
        "import math as mt\n",
        "x=min(5,10,25)\n",
        "y=max(5,10,25)\n",
        "print(x)\n",
        "print(y)"
      ]
    },
    {
      "cell_type": "code",
      "execution_count": null,
      "metadata": {
        "id": "mWoOaLLpRyGt"
      },
      "outputs": [],
      "source": [
        "import math as mt\n",
        "x=mt.sqrt(20)\n",
        "print(x)"
      ]
    },
    {
      "cell_type": "code",
      "execution_count": null,
      "metadata": {
        "id": "ERTVbmE4SAN6"
      },
      "outputs": [],
      "source": [
        "import statistics as st\n",
        "st.mean([2,5,6,9])"
      ]
    },
    {
      "cell_type": "code",
      "execution_count": null,
      "metadata": {
        "id": "5NM9HNhxSO4_"
      },
      "outputs": [],
      "source": [
        "import statistics as st\n",
        "st.variance([2,2.5,5,3,7.5,2.8])\n"
      ]
    },
    {
      "cell_type": "code",
      "execution_count": null,
      "metadata": {
        "id": "FuvU7txXSx8v"
      },
      "outputs": [],
      "source": [
        "print(st.stdev([1,3,5,7,9,11]))"
      ]
    },
    {
      "cell_type": "code",
      "execution_count": null,
      "metadata": {
        "id": "GMQoJSLCTpE-"
      },
      "outputs": [],
      "source": [
        "a=\"jisna\"\n",
        "print(a)"
      ]
    },
    {
      "cell_type": "code",
      "execution_count": null,
      "metadata": {
        "id": "toero-7iTzgw"
      },
      "outputs": [],
      "source": [
        "a=\"jisna\"\n",
        "print(a[1])"
      ]
    },
    {
      "cell_type": "code",
      "execution_count": null,
      "metadata": {
        "id": "Ghj9TlnGT4bK"
      },
      "outputs": [],
      "source": [
        "a=\"jisna\"\n",
        "print(a[:4])"
      ]
    },
    {
      "cell_type": "code",
      "execution_count": null,
      "metadata": {
        "id": "bESKy28FT_KT"
      },
      "outputs": [],
      "source": [
        "a=\"jisna\"\n",
        "print(a[-1])"
      ]
    },
    {
      "cell_type": "code",
      "execution_count": null,
      "metadata": {
        "id": "0cw3BqpFUXuI"
      },
      "outputs": [],
      "source": [
        "a=\"jisna\"\n",
        "print(a[2:5])"
      ]
    },
    {
      "cell_type": "code",
      "execution_count": null,
      "metadata": {
        "id": "j7gyAEmTUbzP"
      },
      "outputs": [],
      "source": [
        "a=\"jisna\"\n",
        "print(a[1:4])"
      ]
    },
    {
      "cell_type": "code",
      "execution_count": null,
      "metadata": {
        "id": "QC-zJtkrUk7O"
      },
      "outputs": [],
      "source": [
        "a=\"jisna\"\n",
        "print(a[0:1])"
      ]
    },
    {
      "cell_type": "code",
      "execution_count": null,
      "metadata": {
        "id": "QbY68Dh9U1EC"
      },
      "outputs": [],
      "source": [
        "a=\"jisna\"\n",
        "print(a[3:])"
      ]
    },
    {
      "cell_type": "code",
      "execution_count": null,
      "metadata": {
        "colab": {
          "background_save": true,
          "base_uri": "https://localhost:8080/"
        },
        "id": "pEMutmnzVeJR",
        "outputId": "91e5f819-b6c7-4bf6-985a-c30466dfbbe6"
      },
      "outputs": [
        {
          "name": "stdout",
          "output_type": "stream",
          "text": [
            "jisna\n",
            "jisn\n"
          ]
        }
      ],
      "source": [
        "x=\"jisna jose\"\n",
        "print(a[:5])\n",
        "print(a[4:])"
      ]
    },
    {
      "cell_type": "code",
      "execution_count": 43,
      "metadata": {
        "colab": {
          "base_uri": "https://localhost:8080/"
        },
        "id": "NAkv6mORW6qB",
        "outputId": "1f4e3b39-327d-49c9-bd64-b00b8ec23b2c"
      },
      "outputs": [
        {
          "output_type": "stream",
          "name": "stdout",
          "text": [
            "JISNA\n"
          ]
        }
      ],
      "source": [
        "x=\"jisna\"\n",
        "print(x.upper())"
      ]
    },
    {
      "cell_type": "code",
      "execution_count": 44,
      "metadata": {
        "id": "EU5cooouYOlf",
        "colab": {
          "base_uri": "https://localhost:8080/"
        },
        "outputId": "bac4ee46-baf3-4df9-92e1-c97d35db87b6"
      },
      "outputs": [
        {
          "output_type": "stream",
          "name": "stdout",
          "text": [
            "jisna\n"
          ]
        }
      ],
      "source": [
        "x=\"jisna\"\n",
        "print(x.lower())"
      ]
    },
    {
      "cell_type": "code",
      "source": [
        "x=\"jisna , jose\"\n",
        "print(x.split(\",\"))"
      ],
      "metadata": {
        "colab": {
          "base_uri": "https://localhost:8080/"
        },
        "id": "7z-oa20YZmCf",
        "outputId": "cc399f18-c44e-4f39-ad0a-ebfadf721db3"
      },
      "execution_count": 47,
      "outputs": [
        {
          "output_type": "stream",
          "name": "stdout",
          "text": [
            "['jisna ', ' jose']\n"
          ]
        }
      ]
    },
    {
      "cell_type": "code",
      "source": [
        "x=\"jisna\"\n",
        "print(x.index(\"i\"))"
      ],
      "metadata": {
        "colab": {
          "base_uri": "https://localhost:8080/"
        },
        "id": "UZexlSyuZshS",
        "outputId": "de087dd2-f36c-4310-b8d1-ecf4d14638f7"
      },
      "execution_count": 49,
      "outputs": [
        {
          "output_type": "stream",
          "name": "stdout",
          "text": [
            "1\n"
          ]
        }
      ]
    },
    {
      "cell_type": "code",
      "source": [
        "x=\"jisna\"\n",
        "print(x.replace())"
      ],
      "metadata": {
        "id": "eppKJ-KHaAyj"
      },
      "execution_count": null,
      "outputs": []
    },
    {
      "cell_type": "code",
      "source": [
        "x=\"jisna\"\n",
        "print(x.startswith (\"jis\"))"
      ],
      "metadata": {
        "colab": {
          "base_uri": "https://localhost:8080/"
        },
        "id": "pZhaPNaYbw-S",
        "outputId": "45c5b52a-2779-4cbe-885d-10b297d4d57c"
      },
      "execution_count": 50,
      "outputs": [
        {
          "output_type": "stream",
          "name": "stdout",
          "text": [
            "True\n"
          ]
        }
      ]
    },
    {
      "cell_type": "code",
      "source": [
        "x=\"jisna\"\n",
        "y=x.startswith (\"jis\",3,5)\n",
        "print(y)"
      ],
      "metadata": {
        "colab": {
          "base_uri": "https://localhost:8080/"
        },
        "id": "OmUXilnMcPMF",
        "outputId": "794a7515-486c-4578-8a92-19c946fb6c47"
      },
      "execution_count": 51,
      "outputs": [
        {
          "output_type": "stream",
          "name": "stdout",
          "text": [
            "False\n"
          ]
        }
      ]
    },
    {
      "cell_type": "code",
      "source": [],
      "metadata": {
        "id": "z_LNCKPGcmi0"
      },
      "execution_count": 54,
      "outputs": []
    },
    {
      "cell_type": "code",
      "source": [
        "x=\"jisna\"\n",
        "y=x.partition(\"jisna\")\n",
        "print(y)"
      ],
      "metadata": {
        "colab": {
          "base_uri": "https://localhost:8080/"
        },
        "id": "lMyPSGlSc0GE",
        "outputId": "079cf44a-fa8c-40df-9829-580a3127b722"
      },
      "execution_count": 55,
      "outputs": [
        {
          "output_type": "stream",
          "name": "stdout",
          "text": [
            "('', 'jisna', '')\n"
          ]
        }
      ]
    },
    {
      "cell_type": "code",
      "source": [],
      "metadata": {
        "id": "mVmkRUsudnzF"
      },
      "execution_count": null,
      "outputs": []
    }
  ],
  "metadata": {
    "colab": {
      "provenance": []
    },
    "kernelspec": {
      "display_name": "Python 3",
      "name": "python3"
    },
    "language_info": {
      "name": "python"
    }
  },
  "nbformat": 4,
  "nbformat_minor": 0
}