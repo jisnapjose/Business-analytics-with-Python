{
  "nbformat": 4,
  "nbformat_minor": 0,
  "metadata": {
    "colab": {
      "provenance": []
    },
    "kernelspec": {
      "name": "python3",
      "display_name": "Python 3"
    },
    "language_info": {
      "name": "python"
    }
  },
  "cells": [
    {
      "cell_type": "code",
      "source": [
        "x=[1,2,3,4,5,6,7,8,9]\n",
        "def ABC(x):\n",
        "  print(sum(x))"
      ],
      "metadata": {
        "id": "1J8wpO50aQN3"
      },
      "execution_count": 8,
      "outputs": []
    },
    {
      "cell_type": "code",
      "source": [
        "ABC(x)"
      ],
      "metadata": {
        "colab": {
          "base_uri": "https://localhost:8080/"
        },
        "id": "fRlmjU0HcUis",
        "outputId": "7c310aed-0a0e-4134-d850-5509b5558875"
      },
      "execution_count": 9,
      "outputs": [
        {
          "output_type": "stream",
          "name": "stdout",
          "text": [
            "45\n"
          ]
        }
      ]
    },
    {
      "cell_type": "code",
      "source": [
        "x=[1,2,3,4,5,6,7,8,9]\n",
        "def ABD(x):\n",
        "  for i in x:\n",
        "    if i%2!=0:\n",
        "      print(i)"
      ],
      "metadata": {
        "id": "fhwPqd2VcWIC"
      },
      "execution_count": 10,
      "outputs": []
    },
    {
      "cell_type": "code",
      "source": [
        "ABD(x)"
      ],
      "metadata": {
        "colab": {
          "base_uri": "https://localhost:8080/"
        },
        "id": "4SkIalabdj_Z",
        "outputId": "ef8e6df0-a4cd-4c7f-8f8a-de9cef49c944"
      },
      "execution_count": 12,
      "outputs": [
        {
          "output_type": "stream",
          "name": "stdout",
          "text": [
            "1\n",
            "3\n",
            "5\n",
            "7\n",
            "9\n"
          ]
        }
      ]
    },
    {
      "cell_type": "code",
      "source": [
        "x=[1,2,3,4,5,6,7,8,9]\n",
        "def ABD(x):\n",
        "  for i in x:\n",
        "    if i%2==0:\n",
        "      print(i)"
      ],
      "metadata": {
        "id": "6zzYvwOxdnl5"
      },
      "execution_count": 14,
      "outputs": []
    },
    {
      "cell_type": "code",
      "source": [
        "ABD(x)"
      ],
      "metadata": {
        "colab": {
          "base_uri": "https://localhost:8080/"
        },
        "id": "BU8BDwm8dvsG",
        "outputId": "40bb13d8-b4e9-4017-fda6-c35c12e958e2"
      },
      "execution_count": 15,
      "outputs": [
        {
          "output_type": "stream",
          "name": "stdout",
          "text": [
            "2\n",
            "4\n",
            "6\n",
            "8\n"
          ]
        }
      ]
    },
    {
      "cell_type": "code",
      "source": [
        "x=\"Python is a high-level, general-purpose programming language\"\n",
        "def ABC(x):\n",
        "  vowel='aeiou'\n",
        "  for i in x:\n",
        "    if i in vowel:\n",
        "      x=x.replace(i,\" \")\n",
        "  print(x)"
      ],
      "metadata": {
        "id": "aLdx3ZdAp8X_"
      },
      "execution_count": 57,
      "outputs": []
    },
    {
      "cell_type": "code",
      "source": [
        "ABC(x)"
      ],
      "metadata": {
        "colab": {
          "base_uri": "https://localhost:8080/"
        },
        "id": "_DePHORIqcji",
        "outputId": "358e96f4-f952-4b2d-873b-b9fb419d0ced"
      },
      "execution_count": 58,
      "outputs": [
        {
          "output_type": "stream",
          "name": "stdout",
          "text": [
            "Pyth n  s   h gh-l v l, g n r l-p rp s  pr gr mm ng l ng  g \n"
          ]
        }
      ]
    }
  ]
}